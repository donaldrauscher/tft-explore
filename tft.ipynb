{
 "cells": [
  {
   "cell_type": "code",
   "execution_count": 1,
   "metadata": {},
   "outputs": [],
   "source": [
    "import os\n",
    "import tempfile\n",
    "import glob\n",
    "\n",
    "import pandas as pd\n",
    "import numpy as np\n",
    "\n",
    "import tensorflow as tf\n",
    "\n",
    "import tensorflow_transform as tft\n",
    "from tensorflow_transform.beam import impl as beam_impl\n",
    "from tensorflow_transform.beam.tft_beam_io import transform_fn_io\n",
    "from tensorflow_transform.tf_metadata import dataset_metadata, dataset_schema\n",
    "\n",
    "import apache_beam as beam\n",
    "from apache_beam.io import tfrecordio"
   ]
  },
  {
   "cell_type": "code",
   "execution_count": 2,
   "metadata": {},
   "outputs": [],
   "source": [
    "tf.logging.set_verbosity(tf.logging.ERROR)"
   ]
  },
  {
   "cell_type": "code",
   "execution_count": 3,
   "metadata": {},
   "outputs": [],
   "source": [
    "!rm -Rf data/transform_fn\n",
    "!rm -Rf data/transformed_metadata"
   ]
  },
  {
   "cell_type": "markdown",
   "metadata": {},
   "source": [
    "### Transform TFRecords"
   ]
  },
  {
   "cell_type": "code",
   "execution_count": 4,
   "metadata": {},
   "outputs": [],
   "source": [
    "csv = pd.read_csv('data/leads.csv')\n",
    "field_types = dict(csv.dtypes)\n",
    "csv_records = csv.to_dict(orient='records')\n",
    "\n",
    "with tf.python_io.TFRecordWriter('data/leads.tfrecords') as writer:\n",
    "    for row in csv_records:\n",
    "        example = tf.train.Example()\n",
    "        for k, v in row.items():\n",
    "            if field_types[k] == 'int64':\n",
    "                example.features.feature[k].int64_list.value.append(v)\n",
    "            elif field_types[k] == 'float64':\n",
    "                example.features.feature[k].float_list.value.append(v)\n",
    "            else:\n",
    "                example.features.feature[k].bytes_list.value.append(str(v).encode('utf-8'))\n",
    "        writer.write(example.SerializeToString())"
   ]
  },
  {
   "cell_type": "markdown",
   "metadata": {},
   "source": [
    "### Use TFT/Beam to transform data for model"
   ]
  },
  {
   "cell_type": "code",
   "execution_count": 5,
   "metadata": {},
   "outputs": [],
   "source": [
    "# schema for raw data\n",
    "RAW_DATA_FEATURE = {\n",
    "    'dx': tf.FixedLenFeature(shape=[1], dtype=tf.string),\n",
    "    'enrolled': tf.FixedLenFeature(shape=[1], dtype=tf.int64)\n",
    "}\n",
    "\n",
    "RAW_DATA_METADATA = dataset_metadata.DatasetMetadata(\n",
    "    dataset_schema.from_feature_spec(RAW_DATA_FEATURE))"
   ]
  },
  {
   "cell_type": "code",
   "execution_count": 6,
   "metadata": {},
   "outputs": [
    {
     "name": "stderr",
     "output_type": "stream",
     "text": [
      "WARNING:root:Deleting 1 existing files in target path matching: -*-of-%(num_shards)05d\n"
     ]
    }
   ],
   "source": [
    "# train our tft transformer\n",
    "with beam.Pipeline() as pipeline:\n",
    "    with beam_impl.Context(temp_dir=tempfile.mkdtemp()):\n",
    "        coder = tft.coders.ExampleProtoCoder(RAW_DATA_METADATA.schema)\n",
    "\n",
    "        data = (\n",
    "            pipeline\n",
    "            | 'Read' >> tfrecordio.ReadFromTFRecord('data/leads.tfrecords')\n",
    "            | 'Decode' >> beam.Map(coder.decode))\n",
    "\n",
    "        def preprocessing_fn(inputs):\n",
    "            return {\n",
    "                'dx': tf.string_split(tf.reshape(inputs['dx'], [-1]), '|'),\n",
    "                'enrolled': inputs['enrolled']\n",
    "            }\n",
    "\n",
    "        (transformed_data, transformed_metadata), transform_fn = (\n",
    "            (data, RAW_DATA_METADATA)\n",
    "            | 'AnalyzeAndTransform' >> beam_impl.AnalyzeAndTransformDataset(preprocessing_fn))\n",
    "        \n",
    "        transformed_data_coder = tft.coders.ExampleProtoCoder(transformed_metadata.schema)\n",
    "\n",
    "        _ = (\n",
    "            transformed_data\n",
    "            | 'Encode' >> beam.Map(transformed_data_coder.encode)\n",
    "            | 'Write' >> tfrecordio.WriteToTFRecord('data/leads_transformed.tfrecords'))\n",
    "\n",
    "        _ = (\n",
    "            transform_fn\n",
    "            | 'WriteTransformFn' >> transform_fn_io.WriteTransformFn('data'))"
   ]
  },
  {
   "cell_type": "code",
   "execution_count": 7,
   "metadata": {},
   "outputs": [
    {
     "name": "stdout",
     "output_type": "stream",
     "text": [
      "{'dx': array([['A|B|C'],\n",
      "       ['D|A'],\n",
      "       ['E|B|C']], dtype=object), 'enrolled': array([[1],\n",
      "       [0],\n",
      "       [1]])}\n",
      "{'dx': SparseTensorValue(indices=array([[0, 0],\n",
      "       [0, 1],\n",
      "       [0, 2],\n",
      "       [1, 0],\n",
      "       [1, 1],\n",
      "       [2, 0],\n",
      "       [2, 1],\n",
      "       [2, 2]]), values=array(['A', 'B', 'C', 'D', 'A', 'E', 'B', 'C'], dtype=object), dense_shape=array([3, 3])), 'enrolled': array([[1],\n",
      "       [0],\n",
      "       [1]])}\n"
     ]
    }
   ],
   "source": [
    "# load data\n",
    "def fetch_tf_records(input_file_pattern, feature_spec):\n",
    "    input_filenames = glob.glob(input_file_pattern)\n",
    "    \n",
    "    n = 0\n",
    "    for f in input_filenames:\n",
    "        n += sum(1 for _ in tf.python_io.tf_record_iterator(f))\n",
    "    \n",
    "    ds = tf.data.TFRecordDataset(input_filenames)\n",
    "    ds = ds.map(lambda x: tf.parse_single_example(x, feature_spec))\n",
    "    ds = ds.batch(n).repeat(1)\n",
    "    \n",
    "    return ds.make_one_shot_iterator().get_next()\n",
    "\n",
    "\n",
    "ds_pre = fetch_tf_records('data/leads.tfrecords', RAW_DATA_FEATURE)\n",
    "\n",
    "ds_post = fetch_tf_records('data/leads_transformed.tfrecords*', \n",
    "                           transformed_metadata.schema.as_feature_spec())\n",
    "\n",
    "with tf.Session() as sess:\n",
    "    print(sess.run(ds_pre))\n",
    "    print(sess.run(ds_post))"
   ]
  }
 ],
 "metadata": {
  "kernelspec": {
   "display_name": "Python 2",
   "language": "python",
   "name": "python2"
  },
  "language_info": {
   "codemirror_mode": {
    "name": "ipython",
    "version": 2
   },
   "file_extension": ".py",
   "mimetype": "text/x-python",
   "name": "python",
   "nbconvert_exporter": "python",
   "pygments_lexer": "ipython2",
   "version": "2.7.12"
  }
 },
 "nbformat": 4,
 "nbformat_minor": 2
}
