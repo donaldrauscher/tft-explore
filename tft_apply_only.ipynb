{
 "cells": [
  {
   "cell_type": "code",
   "execution_count": 1,
   "metadata": {},
   "outputs": [],
   "source": [
    "import tempfile\n",
    "import glob\n",
    "\n",
    "import pandas as pd\n",
    "import numpy as np\n",
    "\n",
    "import tensorflow as tf\n",
    "\n",
    "import tensorflow_transform as tft\n",
    "from tensorflow_transform.beam import impl as beam_impl\n",
    "from tensorflow_transform.beam.tft_beam_io import transform_fn_io\n",
    "from tensorflow_transform.tf_metadata import dataset_metadata, dataset_schema\n",
    "\n",
    "import apache_beam as beam\n",
    "from apache_beam.io import tfrecordio\n",
    "\n",
    "from IPython.display import display"
   ]
  },
  {
   "cell_type": "code",
   "execution_count": 2,
   "metadata": {},
   "outputs": [],
   "source": [
    "tf.logging.set_verbosity(tf.logging.ERROR)"
   ]
  },
  {
   "cell_type": "markdown",
   "metadata": {},
   "source": [
    "### Transform TFRecords with TFT"
   ]
  },
  {
   "cell_type": "code",
   "execution_count": 3,
   "metadata": {},
   "outputs": [],
   "source": [
    "# schema for raw data\n",
    "RAW_DATA_FEATURE = {\n",
    "    'letters': tf.FixedLenFeature(shape=[1], dtype=tf.string),\n",
    "    'yvar': tf.FixedLenFeature(shape=[1], dtype=tf.int64)\n",
    "}\n",
    "\n",
    "RAW_DATA_METADATA = dataset_metadata.DatasetMetadata(\n",
    "    dataset_schema.from_feature_spec(RAW_DATA_FEATURE))"
   ]
  },
  {
   "cell_type": "code",
   "execution_count": 4,
   "metadata": {},
   "outputs": [],
   "source": [
    "# transform data with tft\n",
    "with beam.Pipeline() as pipeline:\n",
    "    with beam_impl.Context(temp_dir=tempfile.mkdtemp()):\n",
    "        coder = tft.coders.ExampleProtoCoder(RAW_DATA_METADATA.schema)\n",
    "\n",
    "        data = (\n",
    "            pipeline\n",
    "            | 'Read' >> tfrecordio.ReadFromTFRecord('data/test.tfrecords')\n",
    "            | 'Decode' >> beam.Map(coder.decode))\n",
    "\n",
    "        transform_fn = (\n",
    "            pipeline \n",
    "            | transform_fn_io.ReadTransformFn('data'))\n",
    "        \n",
    "        # NOTE: I'm still a little puzzled by this syntax; how does `transform_fn`(a pcoll) \n",
    "        #       become an argument for TransformDataset?\n",
    "        transformed_data, _ = (\n",
    "            ((data, RAW_DATA_METADATA), transform_fn)\n",
    "            | 'Transform' >> beam_impl.TransformDataset())\n",
    "        \n",
    "        tf_transform_output = tft.TFTransformOutput('data')\n",
    "        transformed_data_coder = tft.coders.ExampleProtoCoder(tf_transform_output.transformed_metadata.schema)\n",
    "\n",
    "        _ = (\n",
    "            transformed_data\n",
    "            | 'Encode' >> beam.Map(transformed_data_coder.encode)\n",
    "            | 'Write' >> tfrecordio.WriteToTFRecord('data/leads_transformed.tfrecords'))"
   ]
  },
  {
   "cell_type": "markdown",
   "metadata": {},
   "source": [
    "### Inspect transformed TFRecords"
   ]
  },
  {
   "cell_type": "code",
   "execution_count": 5,
   "metadata": {},
   "outputs": [
    {
     "data": {
      "text/plain": [
       "{'letters': array([['A|B|C'],\n",
       "        ['B|D'],\n",
       "        ['D|E|A']], dtype=object), 'yvar': array([[1],\n",
       "        [0],\n",
       "        [1]])}"
      ]
     },
     "metadata": {},
     "output_type": "display_data"
    },
    {
     "data": {
      "text/plain": [
       "{u'letters': SparseTensorValue(indices=array([[0, 0],\n",
       "        [0, 1],\n",
       "        [0, 2],\n",
       "        [1, 0],\n",
       "        [1, 1],\n",
       "        [2, 0],\n",
       "        [2, 1],\n",
       "        [2, 2]]), values=array([ 2,  1, -1,  1,  0,  0, -1,  2]), dense_shape=array([3, 3])),\n",
       " u'yvar': array([[1],\n",
       "        [0],\n",
       "        [1]])}"
      ]
     },
     "metadata": {},
     "output_type": "display_data"
    }
   ],
   "source": [
    "# load data\n",
    "# TODO: this function is useful; put into `djr-py`!\n",
    "def fetch_tf_records(input_file_pattern, feature_spec, top=None):\n",
    "    def input_fn():\n",
    "        input_filenames = glob.glob(input_file_pattern)\n",
    "\n",
    "        if not top:\n",
    "            n = 0\n",
    "            for f in input_filenames:\n",
    "                n += sum(1 for _ in tf.python_io.tf_record_iterator(f))\n",
    "        else:\n",
    "            n = top\n",
    "        \n",
    "        ds = tf.data.TFRecordDataset(input_filenames)\n",
    "        ds = ds.map(lambda x: tf.parse_single_example(x, feature_spec))\n",
    "        ds = ds.batch(n).repeat(1)\n",
    "\n",
    "        return ds.make_one_shot_iterator().get_next()\n",
    "\n",
    "    with tf.Session() as sess:\n",
    "        return sess.run(input_fn())\n",
    "\n",
    "\n",
    "ds_pre = fetch_tf_records('data/test.tfrecords', RAW_DATA_FEATURE)\n",
    "\n",
    "ds_post = fetch_tf_records('data/test_transformed.tfrecords*', \n",
    "                           tf_transform_output.transformed_feature_spec())\n",
    "\n",
    "display(ds_pre)\n",
    "display(ds_post)"
   ]
  }
 ],
 "metadata": {
  "kernelspec": {
   "display_name": "Python 2",
   "language": "python",
   "name": "python2"
  },
  "language_info": {
   "codemirror_mode": {
    "name": "ipython",
    "version": 2
   },
   "file_extension": ".py",
   "mimetype": "text/x-python",
   "name": "python",
   "nbconvert_exporter": "python",
   "pygments_lexer": "ipython2",
   "version": "2.7.15rc1"
  }
 },
 "nbformat": 4,
 "nbformat_minor": 2
}
