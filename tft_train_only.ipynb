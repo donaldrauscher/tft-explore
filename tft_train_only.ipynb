{
 "cells": [
  {
   "cell_type": "code",
   "execution_count": 1,
   "metadata": {},
   "outputs": [],
   "source": [
    "import tempfile\n",
    "\n",
    "import pandas as pd\n",
    "import numpy as np\n",
    "\n",
    "import tensorflow as tf\n",
    "\n",
    "import tensorflow_transform as tft\n",
    "from tensorflow_transform.beam import impl as beam_impl\n",
    "from tensorflow_transform.beam.tft_beam_io import transform_fn_io\n",
    "from tensorflow_transform.tf_metadata import dataset_metadata, dataset_schema\n",
    "\n",
    "import apache_beam as beam\n",
    "from apache_beam.io import tfrecordio"
   ]
  },
  {
   "cell_type": "code",
   "execution_count": 2,
   "metadata": {},
   "outputs": [],
   "source": [
    "tf.logging.set_verbosity(tf.logging.ERROR)"
   ]
  },
  {
   "cell_type": "code",
   "execution_count": 3,
   "metadata": {},
   "outputs": [],
   "source": [
    "!rm -Rf data/transform_fn\n",
    "!rm -Rf data/transformed_metadata"
   ]
  },
  {
   "cell_type": "markdown",
   "metadata": {},
   "source": [
    "### Convert CSV into TFRecords"
   ]
  },
  {
   "cell_type": "code",
   "execution_count": 4,
   "metadata": {},
   "outputs": [],
   "source": [
    "# TODO: this function is useful; put into `djr-py`!\n",
    "csv = pd.read_csv('data/test.csv')\n",
    "field_types = dict(csv.dtypes)\n",
    "csv_records = csv.to_dict(orient='records')\n",
    "\n",
    "with tf.python_io.TFRecordWriter('data/test.tfrecords') as writer:\n",
    "    for row in csv_records:\n",
    "        example = tf.train.Example()\n",
    "        for k, v in row.items():\n",
    "            if field_types[k] == 'int64':\n",
    "                example.features.feature[k].int64_list.value.append(v)\n",
    "            elif field_types[k] == 'float64':\n",
    "                example.features.feature[k].float_list.value.append(v)\n",
    "            else:\n",
    "                example.features.feature[k].bytes_list.value.append(str(v).encode('utf-8'))\n",
    "        writer.write(example.SerializeToString())"
   ]
  },
  {
   "cell_type": "markdown",
   "metadata": {},
   "source": [
    "### Train TFT transformer and save"
   ]
  },
  {
   "cell_type": "code",
   "execution_count": 5,
   "metadata": {},
   "outputs": [],
   "source": [
    "# schema for raw data\n",
    "RAW_DATA_FEATURE = {\n",
    "    'letters': tf.FixedLenFeature(shape=[1], dtype=tf.string),\n",
    "    'yvar': tf.FixedLenFeature(shape=[1], dtype=tf.int64)\n",
    "}\n",
    "\n",
    "RAW_DATA_METADATA = dataset_metadata.DatasetMetadata(\n",
    "    dataset_schema.from_feature_spec(RAW_DATA_FEATURE))"
   ]
  },
  {
   "cell_type": "code",
   "execution_count": 6,
   "metadata": {},
   "outputs": [],
   "source": [
    "# train our tft transformer\n",
    "with beam.Pipeline() as pipeline:\n",
    "    with beam_impl.Context(temp_dir=tempfile.mkdtemp()):\n",
    "        coder = tft.coders.ExampleProtoCoder(RAW_DATA_METADATA.schema)\n",
    "\n",
    "        data = (\n",
    "            pipeline\n",
    "            | 'Read' >> tfrecordio.ReadFromTFRecord('data/test.tfrecords')\n",
    "            | 'Decode' >> beam.Map(coder.decode))\n",
    "\n",
    "        # NOTE: vocab_filename specifies name of vocab file in `transform_fn/assets`\n",
    "        def preprocessing_fn(inputs):\n",
    "            letters = tf.string_split(tf.reshape(inputs['letters'], [-1]), '|')\n",
    "            letters_indices = tft.compute_and_apply_vocabulary(letters, \n",
    "                                                               frequency_threshold=2,\n",
    "                                                               vocab_filename='letters_vocab')\n",
    "            return {\n",
    "                'letters': letters_indices,\n",
    "                'yvar': inputs['yvar']\n",
    "            }\n",
    "        \n",
    "        transform_fn = (\n",
    "            (data, RAW_DATA_METADATA)\n",
    "            | 'Analyze' >> beam_impl.AnalyzeDataset(preprocessing_fn))\n",
    "        \n",
    "        _ = (\n",
    "            transform_fn\n",
    "            | 'WriteTransformFn' >> transform_fn_io.WriteTransformFn('data'))"
   ]
  }
 ],
 "metadata": {
  "kernelspec": {
   "display_name": "Python 2",
   "language": "python",
   "name": "python2"
  },
  "language_info": {
   "codemirror_mode": {
    "name": "ipython",
    "version": 2
   },
   "file_extension": ".py",
   "mimetype": "text/x-python",
   "name": "python",
   "nbconvert_exporter": "python",
   "pygments_lexer": "ipython2",
   "version": "2.7.15rc1"
  }
 },
 "nbformat": 4,
 "nbformat_minor": 2
}
